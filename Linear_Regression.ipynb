{
  "nbformat": 4,
  "nbformat_minor": 0,
  "metadata": {
    "colab": {
      "provenance": [],
      "authorship_tag": "ABX9TyPU1zAH8MxvbTRBcXKIbZYt",
      "include_colab_link": true
    },
    "kernelspec": {
      "name": "python3",
      "display_name": "Python 3"
    },
    "language_info": {
      "name": "python"
    }
  },
  "cells": [
    {
      "cell_type": "markdown",
      "metadata": {
        "id": "view-in-github",
        "colab_type": "text"
      },
      "source": [
        "<a href=\"https://colab.research.google.com/github/PUSKAR-DJ/Machine_Learning_SNU/blob/main/Linear_Regression.ipynb\" target=\"_parent\"><img src=\"https://colab.research.google.com/assets/colab-badge.svg\" alt=\"Open In Colab\"/></a>"
      ]
    },
    {
      "cell_type": "code",
      "execution_count": 1,
      "metadata": {
        "id": "fT2bFk30BfSf"
      },
      "outputs": [],
      "source": [
        "import matplotlib.pyplot as plt\n",
        "import pandas as pd\n",
        "import numpy as np"
      ]
    },
    {
      "cell_type": "code",
      "source": [
        "df=pd.read_csv(\"placement.csv\")"
      ],
      "metadata": {
        "id": "t4GrRojVB-wX"
      },
      "execution_count": 6,
      "outputs": []
    },
    {
      "cell_type": "code",
      "source": [
        "df.head()"
      ],
      "metadata": {
        "colab": {
          "base_uri": "https://localhost:8080/",
          "height": 206
        },
        "id": "vdNBmI-zCKbP",
        "outputId": "ba66f76d-0132-4c8c-ade0-885e21d78db2"
      },
      "execution_count": 7,
      "outputs": [
        {
          "output_type": "execute_result",
          "data": {
            "text/plain": [
              "   cgpa  package\n",
              "0  6.89     3.26\n",
              "1  5.12     1.98\n",
              "2  7.82     3.25\n",
              "3  7.42     3.67\n",
              "4  6.94     3.57"
            ],
            "text/html": [
              "\n",
              "\n",
              "  <div id=\"df-02c69e58-16f1-4390-a757-94330bcba5aa\">\n",
              "    <div class=\"colab-df-container\">\n",
              "      <div>\n",
              "<style scoped>\n",
              "    .dataframe tbody tr th:only-of-type {\n",
              "        vertical-align: middle;\n",
              "    }\n",
              "\n",
              "    .dataframe tbody tr th {\n",
              "        vertical-align: top;\n",
              "    }\n",
              "\n",
              "    .dataframe thead th {\n",
              "        text-align: right;\n",
              "    }\n",
              "</style>\n",
              "<table border=\"1\" class=\"dataframe\">\n",
              "  <thead>\n",
              "    <tr style=\"text-align: right;\">\n",
              "      <th></th>\n",
              "      <th>cgpa</th>\n",
              "      <th>package</th>\n",
              "    </tr>\n",
              "  </thead>\n",
              "  <tbody>\n",
              "    <tr>\n",
              "      <th>0</th>\n",
              "      <td>6.89</td>\n",
              "      <td>3.26</td>\n",
              "    </tr>\n",
              "    <tr>\n",
              "      <th>1</th>\n",
              "      <td>5.12</td>\n",
              "      <td>1.98</td>\n",
              "    </tr>\n",
              "    <tr>\n",
              "      <th>2</th>\n",
              "      <td>7.82</td>\n",
              "      <td>3.25</td>\n",
              "    </tr>\n",
              "    <tr>\n",
              "      <th>3</th>\n",
              "      <td>7.42</td>\n",
              "      <td>3.67</td>\n",
              "    </tr>\n",
              "    <tr>\n",
              "      <th>4</th>\n",
              "      <td>6.94</td>\n",
              "      <td>3.57</td>\n",
              "    </tr>\n",
              "  </tbody>\n",
              "</table>\n",
              "</div>\n",
              "      <button class=\"colab-df-convert\" onclick=\"convertToInteractive('df-02c69e58-16f1-4390-a757-94330bcba5aa')\"\n",
              "              title=\"Convert this dataframe to an interactive table.\"\n",
              "              style=\"display:none;\">\n",
              "\n",
              "  <svg xmlns=\"http://www.w3.org/2000/svg\" height=\"24px\"viewBox=\"0 0 24 24\"\n",
              "       width=\"24px\">\n",
              "    <path d=\"M0 0h24v24H0V0z\" fill=\"none\"/>\n",
              "    <path d=\"M18.56 5.44l.94 2.06.94-2.06 2.06-.94-2.06-.94-.94-2.06-.94 2.06-2.06.94zm-11 1L8.5 8.5l.94-2.06 2.06-.94-2.06-.94L8.5 2.5l-.94 2.06-2.06.94zm10 10l.94 2.06.94-2.06 2.06-.94-2.06-.94-.94-2.06-.94 2.06-2.06.94z\"/><path d=\"M17.41 7.96l-1.37-1.37c-.4-.4-.92-.59-1.43-.59-.52 0-1.04.2-1.43.59L10.3 9.45l-7.72 7.72c-.78.78-.78 2.05 0 2.83L4 21.41c.39.39.9.59 1.41.59.51 0 1.02-.2 1.41-.59l7.78-7.78 2.81-2.81c.8-.78.8-2.07 0-2.86zM5.41 20L4 18.59l7.72-7.72 1.47 1.35L5.41 20z\"/>\n",
              "  </svg>\n",
              "      </button>\n",
              "\n",
              "\n",
              "\n",
              "    <div id=\"df-c53e107a-4617-404a-892f-ff9cce9fa893\">\n",
              "      <button class=\"colab-df-quickchart\" onclick=\"quickchart('df-c53e107a-4617-404a-892f-ff9cce9fa893')\"\n",
              "              title=\"Suggest charts.\"\n",
              "              style=\"display:none;\">\n",
              "\n",
              "<svg xmlns=\"http://www.w3.org/2000/svg\" height=\"24px\"viewBox=\"0 0 24 24\"\n",
              "     width=\"24px\">\n",
              "    <g>\n",
              "        <path d=\"M19 3H5c-1.1 0-2 .9-2 2v14c0 1.1.9 2 2 2h14c1.1 0 2-.9 2-2V5c0-1.1-.9-2-2-2zM9 17H7v-7h2v7zm4 0h-2V7h2v10zm4 0h-2v-4h2v4z\"/>\n",
              "    </g>\n",
              "</svg>\n",
              "      </button>\n",
              "    </div>\n",
              "\n",
              "<style>\n",
              "  .colab-df-quickchart {\n",
              "    background-color: #E8F0FE;\n",
              "    border: none;\n",
              "    border-radius: 50%;\n",
              "    cursor: pointer;\n",
              "    display: none;\n",
              "    fill: #1967D2;\n",
              "    height: 32px;\n",
              "    padding: 0 0 0 0;\n",
              "    width: 32px;\n",
              "  }\n",
              "\n",
              "  .colab-df-quickchart:hover {\n",
              "    background-color: #E2EBFA;\n",
              "    box-shadow: 0px 1px 2px rgba(60, 64, 67, 0.3), 0px 1px 3px 1px rgba(60, 64, 67, 0.15);\n",
              "    fill: #174EA6;\n",
              "  }\n",
              "\n",
              "  [theme=dark] .colab-df-quickchart {\n",
              "    background-color: #3B4455;\n",
              "    fill: #D2E3FC;\n",
              "  }\n",
              "\n",
              "  [theme=dark] .colab-df-quickchart:hover {\n",
              "    background-color: #434B5C;\n",
              "    box-shadow: 0px 1px 3px 1px rgba(0, 0, 0, 0.15);\n",
              "    filter: drop-shadow(0px 1px 2px rgba(0, 0, 0, 0.3));\n",
              "    fill: #FFFFFF;\n",
              "  }\n",
              "</style>\n",
              "\n",
              "    <script>\n",
              "      async function quickchart(key) {\n",
              "        const containerElement = document.querySelector('#' + key);\n",
              "        const charts = await google.colab.kernel.invokeFunction(\n",
              "            'suggestCharts', [key], {});\n",
              "      }\n",
              "    </script>\n",
              "\n",
              "      <script>\n",
              "\n",
              "function displayQuickchartButton(domScope) {\n",
              "  let quickchartButtonEl =\n",
              "    domScope.querySelector('#df-c53e107a-4617-404a-892f-ff9cce9fa893 button.colab-df-quickchart');\n",
              "  quickchartButtonEl.style.display =\n",
              "    google.colab.kernel.accessAllowed ? 'block' : 'none';\n",
              "}\n",
              "\n",
              "        displayQuickchartButton(document);\n",
              "      </script>\n",
              "      <style>\n",
              "    .colab-df-container {\n",
              "      display:flex;\n",
              "      flex-wrap:wrap;\n",
              "      gap: 12px;\n",
              "    }\n",
              "\n",
              "    .colab-df-convert {\n",
              "      background-color: #E8F0FE;\n",
              "      border: none;\n",
              "      border-radius: 50%;\n",
              "      cursor: pointer;\n",
              "      display: none;\n",
              "      fill: #1967D2;\n",
              "      height: 32px;\n",
              "      padding: 0 0 0 0;\n",
              "      width: 32px;\n",
              "    }\n",
              "\n",
              "    .colab-df-convert:hover {\n",
              "      background-color: #E2EBFA;\n",
              "      box-shadow: 0px 1px 2px rgba(60, 64, 67, 0.3), 0px 1px 3px 1px rgba(60, 64, 67, 0.15);\n",
              "      fill: #174EA6;\n",
              "    }\n",
              "\n",
              "    [theme=dark] .colab-df-convert {\n",
              "      background-color: #3B4455;\n",
              "      fill: #D2E3FC;\n",
              "    }\n",
              "\n",
              "    [theme=dark] .colab-df-convert:hover {\n",
              "      background-color: #434B5C;\n",
              "      box-shadow: 0px 1px 3px 1px rgba(0, 0, 0, 0.15);\n",
              "      filter: drop-shadow(0px 1px 2px rgba(0, 0, 0, 0.3));\n",
              "      fill: #FFFFFF;\n",
              "    }\n",
              "  </style>\n",
              "\n",
              "      <script>\n",
              "        const buttonEl =\n",
              "          document.querySelector('#df-02c69e58-16f1-4390-a757-94330bcba5aa button.colab-df-convert');\n",
              "        buttonEl.style.display =\n",
              "          google.colab.kernel.accessAllowed ? 'block' : 'none';\n",
              "\n",
              "        async function convertToInteractive(key) {\n",
              "          const element = document.querySelector('#df-02c69e58-16f1-4390-a757-94330bcba5aa');\n",
              "          const dataTable =\n",
              "            await google.colab.kernel.invokeFunction('convertToInteractive',\n",
              "                                                     [key], {});\n",
              "          if (!dataTable) return;\n",
              "\n",
              "          const docLinkHtml = 'Like what you see? Visit the ' +\n",
              "            '<a target=\"_blank\" href=https://colab.research.google.com/notebooks/data_table.ipynb>data table notebook</a>'\n",
              "            + ' to learn more about interactive tables.';\n",
              "          element.innerHTML = '';\n",
              "          dataTable['output_type'] = 'display_data';\n",
              "          await google.colab.output.renderOutput(dataTable, element);\n",
              "          const docLink = document.createElement('div');\n",
              "          docLink.innerHTML = docLinkHtml;\n",
              "          element.appendChild(docLink);\n",
              "        }\n",
              "      </script>\n",
              "    </div>\n",
              "  </div>\n"
            ]
          },
          "metadata": {},
          "execution_count": 7
        }
      ]
    },
    {
      "cell_type": "code",
      "source": [
        "plt.scatter(df['cgpa'],df['package'])\n",
        "plt.xlabel('CGPA')\n",
        "plt.ylabel('Package(in lpa)')"
      ],
      "metadata": {
        "colab": {
          "base_uri": "https://localhost:8080/",
          "height": 466
        },
        "id": "EebGMs_5EBIZ",
        "outputId": "3f559894-fe5c-41b5-e1a6-49a1b3c01764"
      },
      "execution_count": 8,
      "outputs": [
        {
          "output_type": "execute_result",
          "data": {
            "text/plain": [
              "Text(0, 0.5, 'Package(in lpa)')"
            ]
          },
          "metadata": {},
          "execution_count": 8
        },
        {
          "output_type": "display_data",
          "data": {
            "text/plain": [
              "<Figure size 640x480 with 1 Axes>"
            ],
            "image/png": "[encoded data removed]"
          },
          "metadata": {}
        }
      ]
    },
    {
      "cell_type": "code",
      "source": [
        "# Import the .csv dataset\n",
        "data = pd.read_csv(\"placement.csv\", delimiter=\",\")"
      ],
      "metadata": {
        "id": "tFAXFZANGNUc"
      },
      "execution_count": 14,
      "outputs": []
    },
    {
      "cell_type": "code",
      "source": [
        "# Convert the Pandas DataFrame to a NumPy array\n",
        "data = data.values"
      ],
      "metadata": {
        "id": "duz1N3MNEFQd"
      },
      "execution_count": 15,
      "outputs": []
    },
    {
      "cell_type": "code",
      "source": [
        "# Print the NumPy array\n",
        "print(data)"
      ],
      "metadata": {
        "colab": {
          "base_uri": "https://localhost:8080/"
        },
        "id": "q6QP-8DqK3tc",
        "outputId": "ad282253-2504-4683-b08a-e7f50ef5b444"
      },
      "execution_count": 16,
      "outputs": [
        {
          "output_type": "stream",
          "name": "stdout",
          "text": [
            "[[6.89 3.26]\n",
            " [5.12 1.98]\n",
            " [7.82 3.25]\n",
            " [7.42 3.67]\n",
            " [6.94 3.57]\n",
            " [7.89 2.99]\n",
            " [6.73 2.6 ]\n",
            " [6.75 2.48]\n",
            " [6.09 2.31]\n",
            " [8.31 3.51]\n",
            " [5.32 1.86]\n",
            " [6.61 2.6 ]\n",
            " [8.94 3.65]\n",
            " [6.93 2.89]\n",
            " [7.73 3.42]\n",
            " [7.25 3.23]\n",
            " [6.84 2.35]\n",
            " [5.38 2.09]\n",
            " [6.94 2.98]\n",
            " [7.48 2.83]\n",
            " [7.28 3.16]\n",
            " [6.85 2.93]\n",
            " [6.14 2.3 ]\n",
            " [6.19 2.48]\n",
            " [6.53 2.71]\n",
            " [7.28 3.65]\n",
            " [8.31 3.42]\n",
            " [5.42 2.16]\n",
            " [5.94 2.24]\n",
            " [7.15 3.49]\n",
            " [7.36 3.26]\n",
            " [8.1  3.89]\n",
            " [6.96 3.08]\n",
            " [6.35 2.73]\n",
            " [7.34 3.42]\n",
            " [6.87 2.87]\n",
            " [5.99 2.84]\n",
            " [5.9  2.43]\n",
            " [8.62 4.36]\n",
            " [7.43 3.33]\n",
            " [9.38 4.02]\n",
            " [6.89 2.7 ]\n",
            " [5.95 2.54]\n",
            " [7.66 2.76]\n",
            " [5.09 1.86]\n",
            " [7.87 3.58]\n",
            " [6.07 2.26]\n",
            " [5.84 3.26]\n",
            " [8.63 4.09]\n",
            " [8.87 4.62]\n",
            " [9.58 4.43]\n",
            " [9.26 3.79]\n",
            " [8.37 4.11]\n",
            " [6.47 2.61]\n",
            " [6.86 3.09]\n",
            " [8.2  3.39]\n",
            " [5.84 2.74]\n",
            " [6.6  1.94]\n",
            " [6.92 3.09]\n",
            " [7.56 3.31]\n",
            " [5.61 2.19]\n",
            " [5.48 1.61]\n",
            " [6.34 2.09]\n",
            " [9.16 4.25]\n",
            " [7.36 2.92]\n",
            " [7.6  3.81]\n",
            " [5.11 1.63]\n",
            " [6.51 2.89]\n",
            " [7.56 2.99]\n",
            " [7.3  2.94]\n",
            " [5.79 2.35]\n",
            " [7.47 3.34]\n",
            " [7.78 3.62]\n",
            " [8.44 4.03]\n",
            " [6.85 3.44]\n",
            " [6.97 3.28]\n",
            " [6.94 3.15]\n",
            " [8.99 4.6 ]\n",
            " [6.59 2.21]\n",
            " [7.18 3.  ]\n",
            " [7.63 3.44]\n",
            " [6.1  2.2 ]\n",
            " [5.58 2.17]\n",
            " [8.44 3.49]\n",
            " [4.26 1.53]\n",
            " [4.79 1.48]\n",
            " [7.61 2.77]\n",
            " [8.09 3.55]\n",
            " [4.73 1.48]\n",
            " [6.42 2.72]\n",
            " [7.11 2.66]\n",
            " [6.22 2.14]\n",
            " [7.9  4.  ]\n",
            " [6.79 3.08]\n",
            " [5.83 2.42]\n",
            " [6.63 2.79]\n",
            " [7.11 2.61]\n",
            " [5.98 2.84]\n",
            " [7.69 3.83]\n",
            " [6.61 3.24]\n",
            " [7.95 4.14]\n",
            " [6.71 3.52]\n",
            " [5.13 1.37]\n",
            " [7.05 3.  ]\n",
            " [7.62 3.74]\n",
            " [6.66 2.82]\n",
            " [6.13 2.19]\n",
            " [6.33 2.59]\n",
            " [7.76 3.54]\n",
            " [7.77 4.06]\n",
            " [8.18 3.76]\n",
            " [5.42 2.25]\n",
            " [8.58 4.1 ]\n",
            " [6.94 2.37]\n",
            " [5.84 1.87]\n",
            " [8.35 4.21]\n",
            " [9.04 3.33]\n",
            " [7.12 2.99]\n",
            " [7.4  2.88]\n",
            " [7.39 2.65]\n",
            " [5.23 1.73]\n",
            " [6.5  3.02]\n",
            " [5.12 2.01]\n",
            " [5.1  2.3 ]\n",
            " [6.06 2.31]\n",
            " [7.33 3.16]\n",
            " [5.91 2.6 ]\n",
            " [6.78 3.11]\n",
            " [7.93 3.34]\n",
            " [7.29 3.12]\n",
            " [6.68 2.49]\n",
            " [6.37 2.01]\n",
            " [5.84 2.48]\n",
            " [6.05 2.58]\n",
            " [7.2  2.83]\n",
            " [6.1  2.6 ]\n",
            " [5.64 2.1 ]\n",
            " [7.14 3.13]\n",
            " [7.91 3.89]\n",
            " [7.19 2.4 ]\n",
            " [7.91 3.15]\n",
            " [6.76 3.18]\n",
            " [6.93 3.04]\n",
            " [4.85 1.54]\n",
            " [6.17 2.42]\n",
            " [5.84 2.18]\n",
            " [6.07 2.46]\n",
            " [5.66 2.21]\n",
            " [7.57 3.4 ]\n",
            " [8.28 3.67]\n",
            " [6.3  2.73]\n",
            " [6.12 2.76]\n",
            " [7.37 3.08]\n",
            " [7.94 3.99]\n",
            " [7.08 2.85]\n",
            " [6.98 3.09]\n",
            " [7.38 3.13]\n",
            " [6.47 2.7 ]\n",
            " [5.95 3.04]\n",
            " [8.71 4.08]\n",
            " [7.13 2.93]\n",
            " [7.3  3.33]\n",
            " [5.53 2.55]\n",
            " [8.93 3.91]\n",
            " [9.06 3.82]\n",
            " [8.21 4.08]\n",
            " [8.6  3.98]\n",
            " [8.13 3.6 ]\n",
            " [8.65 3.52]\n",
            " [9.31 4.37]\n",
            " [6.22 2.87]\n",
            " [8.01 3.76]\n",
            " [6.93 2.51]\n",
            " [6.75 2.56]\n",
            " [7.32 2.99]\n",
            " [7.04 3.5 ]\n",
            " [6.29 3.23]\n",
            " [7.09 3.64]\n",
            " [8.15 3.63]\n",
            " [7.14 3.03]\n",
            " [6.19 2.72]\n",
            " [8.22 3.89]\n",
            " [5.88 2.08]\n",
            " [7.28 2.72]\n",
            " [7.88 3.14]\n",
            " [6.31 3.18]\n",
            " [7.84 3.47]\n",
            " [6.26 2.44]\n",
            " [7.35 3.08]\n",
            " [8.11 4.06]\n",
            " [6.19 2.69]\n",
            " [7.28 3.48]\n",
            " [8.25 3.75]\n",
            " [4.57 1.94]\n",
            " [7.89 3.67]\n",
            " [6.93 2.46]\n",
            " [5.89 2.57]\n",
            " [7.21 3.24]\n",
            " [7.63 3.96]\n",
            " [6.22 2.33]]\n"
          ]
        }
      ]
    },
    {
      "cell_type": "code",
      "source": [
        "#Slicing the numpy array dataset into cgpa and package\n",
        "cgpa=data[0:,0]\n",
        "package=data[0:,1]"
      ],
      "metadata": {
        "id": "QSyBoGfjL5x2"
      },
      "execution_count": 17,
      "outputs": []
    },
    {
      "cell_type": "code",
      "source": [
        "#Print the cgpa list and package list\n",
        "print(cgpa)\n",
        "print(package)"
      ],
      "metadata": {
        "colab": {
          "base_uri": "https://localhost:8080/"
        },
        "id": "gvLUGcTGNm_N",
        "outputId": "1df96819-4375-4c62-a055-08f419bc800f"
      },
      "execution_count": 18,
      "outputs": [
        {
          "output_type": "stream",
          "name": "stdout",
          "text": [
            "[6.89 5.12 7.82 7.42 6.94 7.89 6.73 6.75 6.09 8.31 5.32 6.61 8.94 6.93\n",
            " 7.73 7.25 6.84 5.38 6.94 7.48 7.28 6.85 6.14 6.19 6.53 7.28 8.31 5.42\n",
            " 5.94 7.15 7.36 8.1  6.96 6.35 7.34 6.87 5.99 5.9  8.62 7.43 9.38 6.89\n",
            " 5.95 7.66 5.09 7.87 6.07 5.84 8.63 8.87 9.58 9.26 8.37 6.47 6.86 8.2\n",
            " 5.84 6.6  6.92 7.56 5.61 5.48 6.34 9.16 7.36 7.6  5.11 6.51 7.56 7.3\n",
            " 5.79 7.47 7.78 8.44 6.85 6.97 6.94 8.99 6.59 7.18 7.63 6.1  5.58 8.44\n",
            " 4.26 4.79 7.61 8.09 4.73 6.42 7.11 6.22 7.9  6.79 5.83 6.63 7.11 5.98\n",
            " 7.69 6.61 7.95 6.71 5.13 7.05 7.62 6.66 6.13 6.33 7.76 7.77 8.18 5.42\n",
            " 8.58 6.94 5.84 8.35 9.04 7.12 7.4  7.39 5.23 6.5  5.12 5.1  6.06 7.33\n",
            " 5.91 6.78 7.93 7.29 6.68 6.37 5.84 6.05 7.2  6.1  5.64 7.14 7.91 7.19\n",
            " 7.91 6.76 6.93 4.85 6.17 5.84 6.07 5.66 7.57 8.28 6.3  6.12 7.37 7.94\n",
            " 7.08 6.98 7.38 6.47 5.95 8.71 7.13 7.3  5.53 8.93 9.06 8.21 8.6  8.13\n",
            " 8.65 9.31 6.22 8.01 6.93 6.75 7.32 7.04 6.29 7.09 8.15 7.14 6.19 8.22\n",
            " 5.88 7.28 7.88 6.31 7.84 6.26 7.35 8.11 6.19 7.28 8.25 4.57 7.89 6.93\n",
            " 5.89 7.21 7.63 6.22]\n",
            "[3.26 1.98 3.25 3.67 3.57 2.99 2.6  2.48 2.31 3.51 1.86 2.6  3.65 2.89\n",
            " 3.42 3.23 2.35 2.09 2.98 2.83 3.16 2.93 2.3  2.48 2.71 3.65 3.42 2.16\n",
            " 2.24 3.49 3.26 3.89 3.08 2.73 3.42 2.87 2.84 2.43 4.36 3.33 4.02 2.7\n",
            " 2.54 2.76 1.86 3.58 2.26 3.26 4.09 4.62 4.43 3.79 4.11 2.61 3.09 3.39\n",
            " 2.74 1.94 3.09 3.31 2.19 1.61 2.09 4.25 2.92 3.81 1.63 2.89 2.99 2.94\n",
            " 2.35 3.34 3.62 4.03 3.44 3.28 3.15 4.6  2.21 3.   3.44 2.2  2.17 3.49\n",
            " 1.53 1.48 2.77 3.55 1.48 2.72 2.66 2.14 4.   3.08 2.42 2.79 2.61 2.84\n",
            " 3.83 3.24 4.14 3.52 1.37 3.   3.74 2.82 2.19 2.59 3.54 4.06 3.76 2.25\n",
            " 4.1  2.37 1.87 4.21 3.33 2.99 2.88 2.65 1.73 3.02 2.01 2.3  2.31 3.16\n",
            " 2.6  3.11 3.34 3.12 2.49 2.01 2.48 2.58 2.83 2.6  2.1  3.13 3.89 2.4\n",
            " 3.15 3.18 3.04 1.54 2.42 2.18 2.46 2.21 3.4  3.67 2.73 2.76 3.08 3.99\n",
            " 2.85 3.09 3.13 2.7  3.04 4.08 2.93 3.33 2.55 3.91 3.82 4.08 3.98 3.6\n",
            " 3.52 4.37 2.87 3.76 2.51 2.56 2.99 3.5  3.23 3.64 3.63 3.03 2.72 3.89\n",
            " 2.08 2.72 3.14 3.18 3.47 2.44 3.08 4.06 2.69 3.48 3.75 1.94 3.67 2.46\n",
            " 2.57 3.24 3.96 2.33]\n"
          ]
        }
      ]
    },
    {
      "cell_type": "code",
      "source": [
        "#fitting the linear regression model\n",
        "b, m=np.polyfit(cgpa,package,1)"
      ],
      "metadata": {
        "id": "bJyIkLyqN1rE"
      },
      "execution_count": 19,
      "outputs": []
    },
    {
      "cell_type": "code",
      "source": [
        "#Predict the package for a person with 6.9 CGPA\n",
        "predicted_package=m*6.9+b"
      ],
      "metadata": {
        "id": "VAPyyL8NN_W5"
      },
      "execution_count": 20,
      "outputs": []
    },
    {
      "cell_type": "code",
      "source": [
        "#Print the results\n",
        "print(\"Intercept\",b)\n",
        "print(\"Slope\",m)\n",
        "print(\"Predicted package\",predicted_package)"
      ],
      "metadata": {
        "colab": {
          "base_uri": "https://localhost:8080/"
        },
        "id": "pt7m0qmrOemR",
        "outputId": "ab15a32e-d131-413d-a140-7e4d92572fd4"
      },
      "execution_count": 21,
      "outputs": [
        {
          "output_type": "stream",
          "name": "stdout",
          "text": [
            "Intercept 0.5695912947937536\n",
            "Slope -0.9856779462557342\n",
            "Predicted package -6.231586534370813\n"
          ]
        }
      ]
    },
    {
      "cell_type": "code",
      "source": [
        "#Plot the data\n",
        "plt.scatter(cgpa,package)\n",
        "\n",
        "#Plot the fitted line\n",
        "#line=np.poly1d([y,m])\n",
        "#plt.plot(cgpa,line(cgpa),color=\"green\")\n",
        "\n",
        "#Add a title and labels to the axes\n",
        "plt.title(\"Simple Linear Regression\")\n",
        "plt.xlabel(\"CGPA\")\n",
        "plt.ylabel(\"PACKAGE\")\n",
        "\n",
        "#Show the plot\n",
        "plt.show() #basically not needed in colab"
      ],
      "metadata": {
        "colab": {
          "base_uri": "https://localhost:8080/",
          "height": 472
        },
        "id": "Hp4ywlNsO13g",
        "outputId": "f998e1ee-5a1d-4b8c-987a-94afd5c3d1b1"
      },
      "execution_count": 23,
      "outputs": [
        {
          "output_type": "display_data",
          "data": {
            "text/plain": [
              "<Figure size 640x480 with 1 Axes>"
            ],
            "image/png": "[encoded data removed]"
          },
          "metadata": {}
        }
      ]
    },
    {
      "cell_type": "code",
      "source": [],
      "metadata": {
        "id": "xXJbK_fYQSMG"
      },
      "execution_count": null,
      "outputs": []
    }
  ]
}